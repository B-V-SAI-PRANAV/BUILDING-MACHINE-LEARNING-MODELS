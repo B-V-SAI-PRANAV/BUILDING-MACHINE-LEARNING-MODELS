{
  "nbformat": 4,
  "nbformat_minor": 0,
  "metadata": {
    "colab": {
      "provenance": [],
      "authorship_tag": "ABX9TyNvh/wVaP1dMljT2YSp2FcP",
      "include_colab_link": true
    },
    "kernelspec": {
      "name": "python3",
      "display_name": "Python 3"
    },
    "language_info": {
      "name": "python"
    }
  },
  "cells": [
    {
      "cell_type": "markdown",
      "metadata": {
        "id": "view-in-github",
        "colab_type": "text"
      },
      "source": [
        "<a href=\"https://colab.research.google.com/github/B-V-SAI-PRANAV/BUILDING-MACHINE-LEARNING-MODELS/blob/main/Building_linear_regression_.ipynb\" target=\"_parent\"><img src=\"https://colab.research.google.com/assets/colab-badge.svg\" alt=\"Open In Colab\"/></a>"
      ]
    },
    {
      "cell_type": "markdown",
      "source": [
        "Linear Regression"
      ],
      "metadata": {
        "id": "bDteGsqCJrHk"
      }
    },
    {
      "cell_type": "code",
      "source": [
        "import numpy as np"
      ],
      "metadata": {
        "id": "m0MXdVEqJqlU"
      },
      "execution_count": null,
      "outputs": []
    },
    {
      "cell_type": "markdown",
      "source": [],
      "metadata": {
        "id": "DZoz9DnwH5_6"
      }
    },
    {
      "cell_type": "code",
      "source": [
        "class Linear_Regression():\n",
        "  #initiating the paramters\n",
        "  def __init__(self,learning_rate,no_of_iterations):\n",
        "    self.learning_rate=learning_rate\n",
        "    self.no_of_iterations=no_of_iterations\n",
        "  def fit(self,X,Y):\n",
        "    #where x is years of experience and y is salary\n",
        "    #no of training example and no of features\n",
        "    self.m,self.n=X.shape()# no of rows and columns\n",
        "    #initiating the weight and bias of our model\n",
        "    self.w=np.zeros(self.n)\n",
        "    self.b=0\n",
        "    self.X=X\n",
        "    self.Y=Y\n",
        "#implementing gradient descend\n",
        "    for i in range(self.no_of_iterations):\n",
        "      self.update_weights()\n",
        "  def update_weights(self):\n",
        "    Y_prediction=self.predict(self.X)\n",
        "    #calculating the gradient\n",
        "    dw=-2*(self.X.T).dot(self.Y-Y_prediction)/self.m\n",
        "    db=-2*(np.sum(self.Y-Y_prediction)/self.m)\n",
        "    #updating the weights\n",
        "    self.w=self.w-self.learning_rate*dw\n",
        "    self.b=self.b-self.learning_rate*db\n",
        "\n",
        "  def predict(self,X):\n",
        "  #y=wx+b\n",
        "    return X.dot(self.w) +self.b\n",
        "\n",
        "\n",
        "\n",
        "\n",
        "\n",
        "\n"
      ],
      "metadata": {
        "id": "kb8BjWEmJn8Q"
      },
      "execution_count": null,
      "outputs": []
    },
    {
      "cell_type": "markdown",
      "source": [
        "Using linear regression model on the data"
      ],
      "metadata": {
        "id": "eR6T_QCDt_69"
      }
    },
    {
      "cell_type": "code",
      "source": [],
      "metadata": {
        "id": "CF4XYofjvE4Z"
      },
      "execution_count": null,
      "outputs": []
    },
    {
      "cell_type": "markdown",
      "source": [
        "work flow of linear regression model\n",
        "\n",
        "\n",
        "\n",
        "\n",
        "*   set learning rate and no of iterations\n",
        "*   build linear regression equation y=wx+b\n",
        "* find the y predicted value for the given value of x and for corresponding weight & bias\n",
        "*check the loss function for those predicted values\n",
        "* update the parametr values using gradient descent\n",
        "* step 3,4,5 are repeated till we get minimum loss functoin\n",
        "\n",
        "\n",
        "\n"
      ],
      "metadata": {
        "id": "1QmKU8SBuGFy"
      }
    },
    {
      "cell_type": "code",
      "source": [],
      "metadata": {
        "id": "n0eYCnfjR0Iu"
      },
      "execution_count": null,
      "outputs": []
    }
  ]
}